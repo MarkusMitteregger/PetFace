{
 "cells": [
  {
   "cell_type": "code",
   "execution_count": 1,
   "id": "be680658",
   "metadata": {},
   "outputs": [
    {
     "name": "stdout",
     "output_type": "stream",
     "text": [
      "Using device: cuda\n",
      "PyTorch version: 2.8.0+cu128\n",
      "CUDA available: True\n",
      "CUDA device: NVIDIA GeForce RTX 3050 Laptop GPU\n"
     ]
    }
   ],
   "source": [
    "import numpy as np\n",
    "import pandas as pd\n",
    "from pathlib import Path\n",
    "import torch\n",
    "import torch.nn as nn\n",
    "from torch.utils.data import DataLoader\n",
    "from sklearn.model_selection import train_test_split\n",
    "from tqdm import tqdm\n",
    "import matplotlib.pyplot as plt\n",
    "import json\n",
    "from torchvision import transforms\n",
    "\n",
    "\n",
    "from model.EfficientNet import EfficientNet\n",
    "from trainer.process_data import CatTripletDataset, load_cat_data\n",
    "from trainer.evaluate import evaluate_model  # NEW: Import evaluation module\n",
    "\n",
    "print(f'PyTorch version: {torch.__version__}')\n",
    "print(f'CUDA available: {torch.cuda.is_available()}')\n",
    "if torch.cuda.is_available():\n",
    "    print(f'CUDA device: {torch.cuda.get_device_name(0)}')"
   ]
  },
  {
   "cell_type": "code",
   "execution_count": 2,
   "id": "7d0f5393",
   "metadata": {},
   "outputs": [
    {
     "name": "stdout",
     "output_type": "stream",
     "text": [
      "Using device: cuda\n",
      "TRAINING CONFIGURATION\n",
      "------------------------------------------------------------\n",
      "BATCH_SIZE                8\n",
      "EMBEDDING_DIM             128\n",
      "NUM_EPOCHS                50\n",
      "LEARNING_RATE             0.0001\n",
      "SUBSET_SIZE               100\n",
      "TRIPLETS_PER_EPOCH        1000\n",
      "VAL_SUBSET_SIZE           50\n",
      "VAL_TRIPLETS              500\n",
      "MARGIN                    1.0\n",
      "PATIENCE                  20\n",
      "DATASET_PATH              ./cat\n"
     ]
    }
   ],
   "source": [
    "device = torch.device('cuda' if torch.cuda.is_available() else 'cpu')\n",
    "print(f'Using device: {device}')\n",
    "\n",
    "# Hyperparameters\n",
    "CONFIG = {\n",
    "    'BATCH_SIZE': 8,\n",
    "    'EMBEDDING_DIM': 128,\n",
    "    'NUM_EPOCHS': 50,\n",
    "    'LEARNING_RATE': 1e-4,\n",
    "    'SUBSET_SIZE': 100,  # Number of cats to use per epoch\n",
    "    'TRIPLETS_PER_EPOCH': 1000,  # Number of triplets per epoch\n",
    "    'VAL_SUBSET_SIZE': 50,\n",
    "    'VAL_TRIPLETS': 500,\n",
    "    'MARGIN': 1.0,  # Triplet loss margin\n",
    "    'PATIENCE': 20,  # Early stopping patience\n",
    "    'DATASET_PATH': './cat',\n",
    "}\n",
    "print(\"TRAINING CONFIGURATION\")\n",
    "print(\"-\"*60)\n",
    "for key, value in CONFIG.items():\n",
    "    print(f\"{key:<25} {value}\")"
   ]
  },
  {
   "cell_type": "code",
   "execution_count": 3,
   "id": "c86bce76",
   "metadata": {},
   "outputs": [
    {
     "name": "stdout",
     "output_type": "stream",
     "text": [
      "\n",
      "Loading dataset...\n",
      "Loading data from: ./cat\n",
      "Found 164100 cat folders\n"
     ]
    },
    {
     "name": "stderr",
     "output_type": "stream",
     "text": [
      "Loading cats: 100%|██████████| 164100/164100 [00:14<00:00, 11363.81it/s]"
     ]
    },
    {
     "name": "stdout",
     "output_type": "stream",
     "text": [
      "\n",
      "Loaded 643539 images from 164100 unique cats\n",
      "\n",
      "Total images: 643,539\n",
      "Total unique cats: 164,100\n"
     ]
    },
    {
     "name": "stderr",
     "output_type": "stream",
     "text": [
      "\n"
     ]
    }
   ],
   "source": [
    "print(\"\\nLoading dataset...\")\n",
    "image_paths, labels = load_cat_data(CONFIG['DATASET_PATH'])\n",
    "\n",
    "print(f\"\\nTotal images: {len(image_paths):,}\")\n",
    "print(f\"Total unique cats: {len(set(labels)):,}\")"
   ]
  },
  {
   "cell_type": "code",
   "execution_count": 4,
   "id": "5e5f3650",
   "metadata": {},
   "outputs": [
    {
     "name": "stdout",
     "output_type": "stream",
     "text": [
      "Total unique cats: 164,100\n",
      "Train cats: 131,280\n",
      "Val cats: 32,820\n",
      "\n",
      "Training images: 515,159\n",
      "Validation images: 128,380\n",
      "Training cats: 131,280\n",
      "Validation cats: 32,820\n"
     ]
    }
   ],
   "source": [
    "unique_cats = sorted(list(set(labels)))\n",
    "print(f'Total unique cats: {len(unique_cats):,}')\n",
    "\n",
    "# Split cats 80/20\n",
    "train_cat_ids, val_cat_ids = train_test_split(\n",
    "    unique_cats, \n",
    "    test_size=0.2, \n",
    "    random_state=42\n",
    ")\n",
    "\n",
    "train_cat_ids = set(train_cat_ids)\n",
    "val_cat_ids = set(val_cat_ids)\n",
    "\n",
    "print(f'Train cats: {len(train_cat_ids):,}')\n",
    "print(f'Val cats: {len(val_cat_ids):,}')\n",
    "\n",
    "# Split images based on cat ID\n",
    "train_paths, train_labels = [], []\n",
    "val_paths, val_labels = [], []\n",
    "\n",
    "for img_path, cat_id in zip(image_paths, labels):\n",
    "    if cat_id in train_cat_ids:\n",
    "        train_paths.append(img_path)\n",
    "        train_labels.append(cat_id)\n",
    "    else:\n",
    "        val_paths.append(img_path)\n",
    "        val_labels.append(cat_id)\n",
    "\n",
    "print(f'\\nTraining images: {len(train_paths):,}')\n",
    "print(f'Validation images: {len(val_paths):,}')\n",
    "print(f'Training cats: {len(set(train_labels)):,}')\n",
    "print(f'Validation cats: {len(set(val_labels)):,}')"
   ]
  },
  {
   "cell_type": "code",
   "execution_count": 5,
   "id": "79560794",
   "metadata": {},
   "outputs": [],
   "source": [
    "# Change the SIZE as needed\n",
    "train_transform = transforms.Compose([\n",
    "    transforms.Resize((224, 224)),\n",
    "    transforms.RandomHorizontalFlip(p=0.5),\n",
    "    transforms.ColorJitter(brightness=0.2, contrast=0.2, saturation=0.2, hue=0.1),\n",
    "    transforms.RandomRotation(degrees=10),\n",
    "    transforms.ToTensor(),\n",
    "    transforms.Normalize(mean=[0.485, 0.456, 0.406], \n",
    "                        std=[0.229, 0.224, 0.225])\n",
    "])\n",
    "\n",
    "val_transform = transforms.Compose([\n",
    "    transforms.Resize((224, 224)),\n",
    "    transforms.ToTensor(),\n",
    "    transforms.Normalize(mean=[0.485, 0.456, 0.406], \n",
    "                        std=[0.229, 0.224, 0.225])\n",
    "])"
   ]
  },
  {
   "cell_type": "code",
   "execution_count": 6,
   "id": "20574453",
   "metadata": {},
   "outputs": [
    {
     "name": "stdout",
     "output_type": "stream",
     "text": [
      "Total cats: 131280\n",
      "Total images: 515159\n",
      "Sampling from 100 cats...\n"
     ]
    },
    {
     "name": "stderr",
     "output_type": "stream",
     "text": [
      "Generating triplets: 100%|██████████| 1000/1000 [00:00<00:00, 162759.18it/s]\n"
     ]
    },
    {
     "name": "stdout",
     "output_type": "stream",
     "text": [
      "Total triplets generated: 1000\n",
      "Total cats: 32820\n",
      "Total images: 128380\n",
      "Sampling from 50 cats...\n"
     ]
    },
    {
     "name": "stderr",
     "output_type": "stream",
     "text": [
      "Generating triplets: 100%|██████████| 500/500 [00:00<00:00, 198706.84it/s]"
     ]
    },
    {
     "name": "stdout",
     "output_type": "stream",
     "text": [
      "Total triplets generated: 500\n",
      "\n",
      "✓ Train batches: 125\n",
      "✓ Val batches: 63\n"
     ]
    },
    {
     "name": "stderr",
     "output_type": "stream",
     "text": [
      "\n"
     ]
    }
   ],
   "source": [
    "train_dataset = CatTripletDataset(\n",
    "    train_paths, \n",
    "    train_labels, \n",
    "    transform=train_transform,\n",
    "    subset_size=CONFIG['SUBSET_SIZE'],\n",
    "    triplets_per_epoch=CONFIG['TRIPLETS_PER_EPOCH']\n",
    ")\n",
    "\n",
    "val_dataset = CatTripletDataset(\n",
    "    val_paths, \n",
    "    val_labels, \n",
    "    transform=val_transform,\n",
    "    subset_size=CONFIG['VAL_SUBSET_SIZE'],\n",
    "    triplets_per_epoch=CONFIG['VAL_TRIPLETS']\n",
    ")\n",
    "# DataLoaders\n",
    "train_loader = DataLoader(\n",
    "    train_dataset, \n",
    "    batch_size=CONFIG['BATCH_SIZE'], \n",
    "    shuffle=True, \n",
    "    num_workers=4,\n",
    "    pin_memory=True\n",
    ")\n",
    "\n",
    "val_loader = DataLoader(\n",
    "    val_dataset, \n",
    "    batch_size=CONFIG['BATCH_SIZE'], \n",
    "    shuffle=False, \n",
    "    num_workers=4,\n",
    "    pin_memory=True\n",
    ")\n",
    "\n",
    "print(f'\\n✓ Train batches: {len(train_loader):,}')\n",
    "print(f'✓ Val batches: {len(val_loader):,}')"
   ]
  },
  {
   "cell_type": "code",
   "execution_count": 7,
   "id": "aa6b7c23",
   "metadata": {},
   "outputs": [
    {
     "name": "stderr",
     "output_type": "stream",
     "text": [
      "/home/viti1igo/anaconda3/envs/PetFace/lib/python3.10/site-packages/torchvision/models/_utils.py:208: UserWarning: The parameter 'pretrained' is deprecated since 0.13 and may be removed in the future, please use 'weights' instead.\n",
      "  warnings.warn(\n",
      "/home/viti1igo/anaconda3/envs/PetFace/lib/python3.10/site-packages/torchvision/models/_utils.py:223: UserWarning: Arguments other than a weight enum or `None` for 'weights' are deprecated since 0.13 and may be removed in the future. The current behavior is equivalent to passing `weights=EfficientNet_B0_Weights.IMAGENET1K_V1`. You can also use `weights=EfficientNet_B0_Weights.DEFAULT` to get the most up-to-date weights.\n",
      "  warnings.warn(msg)\n"
     ]
    },
    {
     "name": "stdout",
     "output_type": "stream",
     "text": [
      "MODEL SUMMARY\n",
      "------------------------------------------------------------\n",
      "Total parameters:     4,730,364\n",
      "Trainable parameters: 4,730,364\n",
      "Model size:           18.04 MB\n",
      "Device:               cuda:0\n"
     ]
    }
   ],
   "source": [
    "model = EfficientNet(embedding_dim=CONFIG['EMBEDDING_DIM'])\n",
    "model = model.to(device)\n",
    "\n",
    "# Count parameters\n",
    "total_params = sum(p.numel() for p in model.parameters())\n",
    "trainable_params = sum(p.numel() for p in model.parameters() if p.requires_grad)\n",
    "\n",
    "print(\"MODEL SUMMARY\")\n",
    "print(f'{\"-\"*60}')\n",
    "print(f'Total parameters:     {total_params:,}')\n",
    "print(f'Trainable parameters: {trainable_params:,}')\n",
    "print(f'Model size:           {total_params * 4 / 1024 / 1024:.2f} MB')\n",
    "print(f'Device:               {next(model.parameters()).device}')"
   ]
  },
  {
   "cell_type": "code",
   "execution_count": 8,
   "id": "0d1e6e29",
   "metadata": {},
   "outputs": [
    {
     "name": "stdout",
     "output_type": "stream",
     "text": [
      "\n",
      "✓ Loss: Triplet Margin Loss (margin=1.0)\n",
      "✓ Optimizer: Adam (lr=0.0001)\n",
      "✓ Scheduler: StepLR (step=10, gamma=0.5)\n"
     ]
    }
   ],
   "source": [
    "criterion = nn.TripletMarginLoss(margin=CONFIG['MARGIN'], p=2)\n",
    "optimizer = torch.optim.Adam(model.parameters(), lr=CONFIG['LEARNING_RATE'])\n",
    "scheduler = torch.optim.lr_scheduler.StepLR(optimizer, step_size=10, gamma=0.5)\n",
    "\n",
    "print(f\"\\n✓ Loss: Triplet Margin Loss (margin={CONFIG['MARGIN']})\")\n",
    "print(f\"✓ Optimizer: Adam (lr={CONFIG['LEARNING_RATE']})\")\n",
    "print(f\"✓ Scheduler: StepLR (step=10, gamma=0.5)\")"
   ]
  },
  {
   "cell_type": "code",
   "execution_count": 9,
   "id": "c3c8b910",
   "metadata": {},
   "outputs": [],
   "source": [
    "def train_one_epoch(model, loader, criterion, optimizer, device):\n",
    "    \"\"\"Train for one epoch\"\"\"\n",
    "    model.train()\n",
    "    total_loss = 0\n",
    "    \n",
    "    pbar = tqdm(loader, desc=\"Training\")\n",
    "    for anchor, positive, negative in pbar:\n",
    "        # Move to device\n",
    "        anchor = anchor.to(device)\n",
    "        positive = positive.to(device)\n",
    "        negative = negative.to(device)\n",
    "        \n",
    "        optimizer.zero_grad()\n",
    "        \n",
    "        # Forward pass\n",
    "        anchor_emb = model(anchor)\n",
    "        pos_emb = model(positive)\n",
    "        neg_emb = model(negative)\n",
    "        \n",
    "        # Compute loss\n",
    "        loss = criterion(anchor_emb, pos_emb, neg_emb)\n",
    "        \n",
    "        # Backward\n",
    "        loss.backward()\n",
    "        optimizer.step()\n",
    "        \n",
    "        total_loss += loss.item()\n",
    "        pbar.set_postfix({'loss': f'{loss.item():.4f}'})\n",
    "    \n",
    "    return total_loss / len(loader)\n",
    "\n",
    "\n",
    "@torch.no_grad()\n",
    "def validate(model, loader, criterion, device):\n",
    "    \"\"\"Validate model\"\"\"\n",
    "    model.eval()\n",
    "    total_loss = 0\n",
    "    \n",
    "    pbar = tqdm(loader, desc=\"Validating\")\n",
    "    for anchor, positive, negative in pbar:\n",
    "        anchor = anchor.to(device)\n",
    "        positive = positive.to(device)\n",
    "        negative = negative.to(device)\n",
    "        \n",
    "        anchor_emb = model(anchor)\n",
    "        pos_emb = model(positive)\n",
    "        neg_emb = model(negative)\n",
    "        \n",
    "        loss = criterion(anchor_emb, pos_emb, neg_emb)\n",
    "        total_loss += loss.item()\n",
    "        pbar.set_postfix({'loss': f'{loss.item():.4f}'})\n",
    "    \n",
    "    return total_loss / len(loader)"
   ]
  },
  {
   "cell_type": "code",
   "execution_count": 10,
   "id": "b24581b1",
   "metadata": {},
   "outputs": [
    {
     "name": "stdout",
     "output_type": "stream",
     "text": [
      "STARTING TRAINING\n",
      "------------------------------------------------------------\n",
      "\n",
      "Epoch 1/50\n",
      "------------------------------------------------------------\n"
     ]
    },
    {
     "name": "stderr",
     "output_type": "stream",
     "text": [
      "Training: 100%|██████████| 125/125 [00:20<00:00,  6.13it/s, loss=0.7359]\n",
      "Validating: 100%|██████████| 63/63 [00:02<00:00, 22.09it/s, loss=0.2253]\n"
     ]
    },
    {
     "name": "stdout",
     "output_type": "stream",
     "text": [
      "\n",
      "Train Loss: 0.7574 | Val Loss: 0.5943 | LR: 0.000100\n",
      "✓ New best val loss: 0.5943 - Model saved!\n",
      "\n",
      "Epoch 2/50\n",
      "------------------------------------------------------------\n"
     ]
    },
    {
     "name": "stderr",
     "output_type": "stream",
     "text": [
      "Training: 100%|██████████| 125/125 [00:19<00:00,  6.38it/s, loss=0.4123]\n",
      "Validating: 100%|██████████| 63/63 [00:02<00:00, 21.13it/s, loss=0.0679]\n"
     ]
    },
    {
     "name": "stdout",
     "output_type": "stream",
     "text": [
      "\n",
      "Train Loss: 0.4200 | Val Loss: 0.4114 | LR: 0.000100\n",
      "✓ New best val loss: 0.4114 - Model saved!\n",
      "\n",
      "Epoch 3/50\n",
      "------------------------------------------------------------\n"
     ]
    },
    {
     "name": "stderr",
     "output_type": "stream",
     "text": [
      "Training: 100%|██████████| 125/125 [00:19<00:00,  6.34it/s, loss=0.3308]\n",
      "Validating: 100%|██████████| 63/63 [00:02<00:00, 22.34it/s, loss=0.0584]\n"
     ]
    },
    {
     "name": "stdout",
     "output_type": "stream",
     "text": [
      "\n",
      "Train Loss: 0.3186 | Val Loss: 0.3620 | LR: 0.000100\n",
      "✓ New best val loss: 0.3620 - Model saved!\n",
      "\n",
      "Epoch 4/50\n",
      "------------------------------------------------------------\n"
     ]
    },
    {
     "name": "stderr",
     "output_type": "stream",
     "text": [
      "Training: 100%|██████████| 125/125 [00:19<00:00,  6.34it/s, loss=0.4354]\n",
      "Validating: 100%|██████████| 63/63 [00:02<00:00, 22.24it/s, loss=0.0624]\n"
     ]
    },
    {
     "name": "stdout",
     "output_type": "stream",
     "text": [
      "\n",
      "Train Loss: 0.2735 | Val Loss: 0.3881 | LR: 0.000100\n",
      "No improvement for 1 epochs\n",
      "\n",
      "Epoch 5/50\n",
      "------------------------------------------------------------\n"
     ]
    },
    {
     "name": "stderr",
     "output_type": "stream",
     "text": [
      "Training: 100%|██████████| 125/125 [00:19<00:00,  6.30it/s, loss=0.2575]\n",
      "Validating: 100%|██████████| 63/63 [00:02<00:00, 22.14it/s, loss=0.1640]\n"
     ]
    },
    {
     "name": "stdout",
     "output_type": "stream",
     "text": [
      "\n",
      "Train Loss: 0.2440 | Val Loss: 0.3806 | LR: 0.000100\n",
      "No improvement for 2 epochs\n",
      "\n",
      "Epoch 6/50\n",
      "------------------------------------------------------------\n"
     ]
    },
    {
     "name": "stderr",
     "output_type": "stream",
     "text": [
      "Training: 100%|██████████| 125/125 [00:19<00:00,  6.31it/s, loss=0.2154]\n",
      "Validating: 100%|██████████| 63/63 [00:02<00:00, 21.86it/s, loss=0.0276]\n"
     ]
    },
    {
     "name": "stdout",
     "output_type": "stream",
     "text": [
      "\n",
      "Train Loss: 0.2158 | Val Loss: 0.3654 | LR: 0.000100\n",
      "No improvement for 3 epochs\n",
      "\n",
      "Epoch 7/50\n",
      "------------------------------------------------------------\n"
     ]
    },
    {
     "name": "stderr",
     "output_type": "stream",
     "text": [
      "Training: 100%|██████████| 125/125 [00:19<00:00,  6.37it/s, loss=0.0664]\n",
      "Validating: 100%|██████████| 63/63 [00:02<00:00, 22.72it/s, loss=0.0767]\n"
     ]
    },
    {
     "name": "stdout",
     "output_type": "stream",
     "text": [
      "\n",
      "Train Loss: 0.1886 | Val Loss: 0.3366 | LR: 0.000100\n",
      "✓ New best val loss: 0.3366 - Model saved!\n",
      "\n",
      "Epoch 8/50\n",
      "------------------------------------------------------------\n"
     ]
    },
    {
     "name": "stderr",
     "output_type": "stream",
     "text": [
      "Training: 100%|██████████| 125/125 [00:19<00:00,  6.36it/s, loss=0.1684]\n",
      "Validating: 100%|██████████| 63/63 [00:03<00:00, 20.03it/s, loss=0.0551]\n"
     ]
    },
    {
     "name": "stdout",
     "output_type": "stream",
     "text": [
      "\n",
      "Train Loss: 0.1678 | Val Loss: 0.3317 | LR: 0.000100\n",
      "✓ New best val loss: 0.3317 - Model saved!\n",
      "\n",
      "Epoch 9/50\n",
      "------------------------------------------------------------\n"
     ]
    },
    {
     "name": "stderr",
     "output_type": "stream",
     "text": [
      "Training: 100%|██████████| 125/125 [00:19<00:00,  6.31it/s, loss=0.2915]\n",
      "Validating: 100%|██████████| 63/63 [00:02<00:00, 22.37it/s, loss=0.0570]\n"
     ]
    },
    {
     "name": "stdout",
     "output_type": "stream",
     "text": [
      "\n",
      "Train Loss: 0.1656 | Val Loss: 0.3360 | LR: 0.000100\n",
      "No improvement for 1 epochs\n",
      "\n",
      "Epoch 10/50\n",
      "------------------------------------------------------------\n"
     ]
    },
    {
     "name": "stderr",
     "output_type": "stream",
     "text": [
      "Training: 100%|██████████| 125/125 [00:19<00:00,  6.36it/s, loss=0.2164]\n",
      "Validating: 100%|██████████| 63/63 [00:02<00:00, 22.18it/s, loss=0.0580]\n"
     ]
    },
    {
     "name": "stdout",
     "output_type": "stream",
     "text": [
      "\n",
      "Train Loss: 0.1494 | Val Loss: 0.3041 | LR: 0.000100\n",
      "✓ New best val loss: 0.3041 - Model saved!\n",
      "\n",
      "Epoch 11/50\n",
      "------------------------------------------------------------\n"
     ]
    },
    {
     "name": "stderr",
     "output_type": "stream",
     "text": [
      "Training: 100%|██████████| 125/125 [00:19<00:00,  6.31it/s, loss=0.2463]\n",
      "Validating: 100%|██████████| 63/63 [00:02<00:00, 21.60it/s, loss=0.0845]\n"
     ]
    },
    {
     "name": "stdout",
     "output_type": "stream",
     "text": [
      "\n",
      "Train Loss: 0.1301 | Val Loss: 0.2944 | LR: 0.000050\n",
      "✓ New best val loss: 0.2944 - Model saved!\n",
      "\n",
      "Epoch 12/50\n",
      "------------------------------------------------------------\n"
     ]
    },
    {
     "name": "stderr",
     "output_type": "stream",
     "text": [
      "Training: 100%|██████████| 125/125 [00:19<00:00,  6.35it/s, loss=0.1215]\n",
      "Validating: 100%|██████████| 63/63 [00:02<00:00, 22.62it/s, loss=0.0770]\n"
     ]
    },
    {
     "name": "stdout",
     "output_type": "stream",
     "text": [
      "\n",
      "Train Loss: 0.1298 | Val Loss: 0.3000 | LR: 0.000050\n",
      "No improvement for 1 epochs\n",
      "\n",
      "Epoch 13/50\n",
      "------------------------------------------------------------\n"
     ]
    },
    {
     "name": "stderr",
     "output_type": "stream",
     "text": [
      "Training: 100%|██████████| 125/125 [00:20<00:00,  6.06it/s, loss=0.1003]\n",
      "Validating: 100%|██████████| 63/63 [00:02<00:00, 22.32it/s, loss=0.1688]\n"
     ]
    },
    {
     "name": "stdout",
     "output_type": "stream",
     "text": [
      "\n",
      "Train Loss: 0.1147 | Val Loss: 0.3033 | LR: 0.000050\n",
      "No improvement for 2 epochs\n",
      "\n",
      "Epoch 14/50\n",
      "------------------------------------------------------------\n"
     ]
    },
    {
     "name": "stderr",
     "output_type": "stream",
     "text": [
      "Training: 100%|██████████| 125/125 [00:19<00:00,  6.34it/s, loss=0.1309]\n",
      "Validating: 100%|██████████| 63/63 [00:02<00:00, 22.54it/s, loss=0.0986]\n"
     ]
    },
    {
     "name": "stdout",
     "output_type": "stream",
     "text": [
      "\n",
      "Train Loss: 0.1119 | Val Loss: 0.2903 | LR: 0.000050\n",
      "✓ New best val loss: 0.2903 - Model saved!\n",
      "\n",
      "Epoch 15/50\n",
      "------------------------------------------------------------\n"
     ]
    },
    {
     "name": "stderr",
     "output_type": "stream",
     "text": [
      "Training: 100%|██████████| 125/125 [00:20<00:00,  6.17it/s, loss=0.1060]\n",
      "Validating: 100%|██████████| 63/63 [00:02<00:00, 22.26it/s, loss=0.0650]\n"
     ]
    },
    {
     "name": "stdout",
     "output_type": "stream",
     "text": [
      "\n",
      "Train Loss: 0.1080 | Val Loss: 0.2696 | LR: 0.000050\n",
      "✓ New best val loss: 0.2696 - Model saved!\n",
      "\n",
      "Epoch 16/50\n",
      "------------------------------------------------------------\n"
     ]
    },
    {
     "name": "stderr",
     "output_type": "stream",
     "text": [
      "Training: 100%|██████████| 125/125 [00:19<00:00,  6.30it/s, loss=0.1366]\n",
      "Validating: 100%|██████████| 63/63 [00:02<00:00, 21.31it/s, loss=0.1201]\n"
     ]
    },
    {
     "name": "stdout",
     "output_type": "stream",
     "text": [
      "\n",
      "Train Loss: 0.1001 | Val Loss: 0.2775 | LR: 0.000050\n",
      "No improvement for 1 epochs\n",
      "\n",
      "Epoch 17/50\n",
      "------------------------------------------------------------\n"
     ]
    },
    {
     "name": "stderr",
     "output_type": "stream",
     "text": [
      "Training: 100%|██████████| 125/125 [00:19<00:00,  6.34it/s, loss=0.0081]\n",
      "Validating: 100%|██████████| 63/63 [00:02<00:00, 22.46it/s, loss=0.1172]\n"
     ]
    },
    {
     "name": "stdout",
     "output_type": "stream",
     "text": [
      "\n",
      "Train Loss: 0.1015 | Val Loss: 0.2800 | LR: 0.000050\n",
      "No improvement for 2 epochs\n",
      "\n",
      "Epoch 18/50\n",
      "------------------------------------------------------------\n"
     ]
    },
    {
     "name": "stderr",
     "output_type": "stream",
     "text": [
      "Training: 100%|██████████| 125/125 [00:19<00:00,  6.33it/s, loss=0.0269]\n",
      "Validating: 100%|██████████| 63/63 [00:02<00:00, 22.53it/s, loss=0.0940]\n"
     ]
    },
    {
     "name": "stdout",
     "output_type": "stream",
     "text": [
      "\n",
      "Train Loss: 0.1004 | Val Loss: 0.2912 | LR: 0.000050\n",
      "No improvement for 3 epochs\n",
      "\n",
      "Epoch 19/50\n",
      "------------------------------------------------------------\n"
     ]
    },
    {
     "name": "stderr",
     "output_type": "stream",
     "text": [
      "Training: 100%|██████████| 125/125 [00:19<00:00,  6.32it/s, loss=0.1172]\n",
      "Validating: 100%|██████████| 63/63 [00:02<00:00, 22.37it/s, loss=0.0575]\n"
     ]
    },
    {
     "name": "stdout",
     "output_type": "stream",
     "text": [
      "\n",
      "Train Loss: 0.0964 | Val Loss: 0.2913 | LR: 0.000050\n",
      "No improvement for 4 epochs\n",
      "\n",
      "Epoch 20/50\n",
      "------------------------------------------------------------\n"
     ]
    },
    {
     "name": "stderr",
     "output_type": "stream",
     "text": [
      "Training: 100%|██████████| 125/125 [00:19<00:00,  6.33it/s, loss=0.0168]\n",
      "Validating: 100%|██████████| 63/63 [00:02<00:00, 22.27it/s, loss=0.0533]\n"
     ]
    },
    {
     "name": "stdout",
     "output_type": "stream",
     "text": [
      "\n",
      "Train Loss: 0.0889 | Val Loss: 0.2738 | LR: 0.000050\n",
      "No improvement for 5 epochs\n",
      "\n",
      "Epoch 21/50\n",
      "------------------------------------------------------------\n"
     ]
    },
    {
     "name": "stderr",
     "output_type": "stream",
     "text": [
      "Training: 100%|██████████| 125/125 [00:19<00:00,  6.34it/s, loss=0.0320]\n",
      "Validating: 100%|██████████| 63/63 [00:02<00:00, 22.25it/s, loss=0.0506]\n"
     ]
    },
    {
     "name": "stdout",
     "output_type": "stream",
     "text": [
      "\n",
      "Train Loss: 0.0873 | Val Loss: 0.2898 | LR: 0.000025\n",
      "No improvement for 6 epochs\n",
      "\n",
      "Epoch 22/50\n",
      "------------------------------------------------------------\n"
     ]
    },
    {
     "name": "stderr",
     "output_type": "stream",
     "text": [
      "Training: 100%|██████████| 125/125 [00:19<00:00,  6.34it/s, loss=0.1092]\n",
      "Validating: 100%|██████████| 63/63 [00:02<00:00, 22.07it/s, loss=0.1231]\n"
     ]
    },
    {
     "name": "stdout",
     "output_type": "stream",
     "text": [
      "\n",
      "Train Loss: 0.0851 | Val Loss: 0.2865 | LR: 0.000025\n",
      "No improvement for 7 epochs\n",
      "\n",
      "Epoch 23/50\n",
      "------------------------------------------------------------\n"
     ]
    },
    {
     "name": "stderr",
     "output_type": "stream",
     "text": [
      "Training: 100%|██████████| 125/125 [00:19<00:00,  6.34it/s, loss=0.0169]\n",
      "Validating: 100%|██████████| 63/63 [00:02<00:00, 22.39it/s, loss=0.1029]\n"
     ]
    },
    {
     "name": "stdout",
     "output_type": "stream",
     "text": [
      "\n",
      "Train Loss: 0.0854 | Val Loss: 0.2656 | LR: 0.000025\n",
      "✓ New best val loss: 0.2656 - Model saved!\n",
      "\n",
      "Epoch 24/50\n",
      "------------------------------------------------------------\n"
     ]
    },
    {
     "name": "stderr",
     "output_type": "stream",
     "text": [
      "Training: 100%|██████████| 125/125 [00:19<00:00,  6.32it/s, loss=0.0742]\n",
      "Validating: 100%|██████████| 63/63 [00:02<00:00, 22.33it/s, loss=0.0929]\n"
     ]
    },
    {
     "name": "stdout",
     "output_type": "stream",
     "text": [
      "\n",
      "Train Loss: 0.0733 | Val Loss: 0.2891 | LR: 0.000025\n",
      "No improvement for 1 epochs\n",
      "\n",
      "Epoch 25/50\n",
      "------------------------------------------------------------\n"
     ]
    },
    {
     "name": "stderr",
     "output_type": "stream",
     "text": [
      "Training: 100%|██████████| 125/125 [00:19<00:00,  6.34it/s, loss=0.0000]\n",
      "Validating: 100%|██████████| 63/63 [00:02<00:00, 22.52it/s, loss=0.0960]\n"
     ]
    },
    {
     "name": "stdout",
     "output_type": "stream",
     "text": [
      "\n",
      "Train Loss: 0.0799 | Val Loss: 0.2790 | LR: 0.000025\n",
      "No improvement for 2 epochs\n",
      "\n",
      "Epoch 26/50\n",
      "------------------------------------------------------------\n"
     ]
    },
    {
     "name": "stderr",
     "output_type": "stream",
     "text": [
      "Training: 100%|██████████| 125/125 [00:19<00:00,  6.32it/s, loss=0.1472]\n",
      "Validating: 100%|██████████| 63/63 [00:02<00:00, 22.40it/s, loss=0.2244]\n"
     ]
    },
    {
     "name": "stdout",
     "output_type": "stream",
     "text": [
      "\n",
      "Train Loss: 0.0756 | Val Loss: 0.2912 | LR: 0.000025\n",
      "No improvement for 3 epochs\n",
      "\n",
      "Epoch 27/50\n",
      "------------------------------------------------------------\n"
     ]
    },
    {
     "name": "stderr",
     "output_type": "stream",
     "text": [
      "Training: 100%|██████████| 125/125 [00:19<00:00,  6.33it/s, loss=0.0881]\n",
      "Validating: 100%|██████████| 63/63 [00:02<00:00, 22.36it/s, loss=0.1971]\n"
     ]
    },
    {
     "name": "stdout",
     "output_type": "stream",
     "text": [
      "\n",
      "Train Loss: 0.0714 | Val Loss: 0.2892 | LR: 0.000025\n",
      "No improvement for 4 epochs\n",
      "\n",
      "Epoch 28/50\n",
      "------------------------------------------------------------\n"
     ]
    },
    {
     "name": "stderr",
     "output_type": "stream",
     "text": [
      "Training: 100%|██████████| 125/125 [00:19<00:00,  6.33it/s, loss=0.0475]\n",
      "Validating: 100%|██████████| 63/63 [00:02<00:00, 22.17it/s, loss=0.0634]\n"
     ]
    },
    {
     "name": "stdout",
     "output_type": "stream",
     "text": [
      "\n",
      "Train Loss: 0.0662 | Val Loss: 0.2834 | LR: 0.000025\n",
      "No improvement for 5 epochs\n",
      "\n",
      "Epoch 29/50\n",
      "------------------------------------------------------------\n"
     ]
    },
    {
     "name": "stderr",
     "output_type": "stream",
     "text": [
      "Training: 100%|██████████| 125/125 [00:19<00:00,  6.32it/s, loss=0.0000]\n",
      "Validating: 100%|██████████| 63/63 [00:02<00:00, 22.36it/s, loss=0.0510]\n"
     ]
    },
    {
     "name": "stdout",
     "output_type": "stream",
     "text": [
      "\n",
      "Train Loss: 0.0696 | Val Loss: 0.2877 | LR: 0.000025\n",
      "No improvement for 6 epochs\n",
      "\n",
      "Epoch 30/50\n",
      "------------------------------------------------------------\n"
     ]
    },
    {
     "name": "stderr",
     "output_type": "stream",
     "text": [
      "Training: 100%|██████████| 125/125 [00:19<00:00,  6.35it/s, loss=0.2104]\n",
      "Validating: 100%|██████████| 63/63 [00:02<00:00, 22.48it/s, loss=0.0310]\n"
     ]
    },
    {
     "name": "stdout",
     "output_type": "stream",
     "text": [
      "\n",
      "Train Loss: 0.0714 | Val Loss: 0.2841 | LR: 0.000025\n",
      "No improvement for 7 epochs\n",
      "\n",
      "Epoch 31/50\n",
      "------------------------------------------------------------\n"
     ]
    },
    {
     "name": "stderr",
     "output_type": "stream",
     "text": [
      "Training: 100%|██████████| 125/125 [00:19<00:00,  6.34it/s, loss=0.1562]\n",
      "Validating: 100%|██████████| 63/63 [00:02<00:00, 22.10it/s, loss=0.0868]\n"
     ]
    },
    {
     "name": "stdout",
     "output_type": "stream",
     "text": [
      "\n",
      "Train Loss: 0.0630 | Val Loss: 0.2852 | LR: 0.000013\n",
      "No improvement for 8 epochs\n",
      "\n",
      "Epoch 32/50\n",
      "------------------------------------------------------------\n"
     ]
    },
    {
     "name": "stderr",
     "output_type": "stream",
     "text": [
      "Training: 100%|██████████| 125/125 [00:19<00:00,  6.32it/s, loss=0.0521]\n",
      "Validating: 100%|██████████| 63/63 [00:02<00:00, 22.02it/s, loss=0.0132]\n"
     ]
    },
    {
     "name": "stdout",
     "output_type": "stream",
     "text": [
      "\n",
      "Train Loss: 0.0653 | Val Loss: 0.2848 | LR: 0.000013\n",
      "No improvement for 9 epochs\n",
      "\n",
      "Epoch 33/50\n",
      "------------------------------------------------------------\n"
     ]
    },
    {
     "name": "stderr",
     "output_type": "stream",
     "text": [
      "Training: 100%|██████████| 125/125 [00:19<00:00,  6.34it/s, loss=0.0309]\n",
      "Validating: 100%|██████████| 63/63 [00:02<00:00, 22.27it/s, loss=0.1012]\n"
     ]
    },
    {
     "name": "stdout",
     "output_type": "stream",
     "text": [
      "\n",
      "Train Loss: 0.0598 | Val Loss: 0.2867 | LR: 0.000013\n",
      "No improvement for 10 epochs\n",
      "\n",
      "Epoch 34/50\n",
      "------------------------------------------------------------\n"
     ]
    },
    {
     "name": "stderr",
     "output_type": "stream",
     "text": [
      "Training: 100%|██████████| 125/125 [00:19<00:00,  6.34it/s, loss=0.1175]\n",
      "Validating: 100%|██████████| 63/63 [00:02<00:00, 22.35it/s, loss=0.1101]\n"
     ]
    },
    {
     "name": "stdout",
     "output_type": "stream",
     "text": [
      "\n",
      "Train Loss: 0.0649 | Val Loss: 0.2822 | LR: 0.000013\n",
      "No improvement for 11 epochs\n",
      "\n",
      "Epoch 35/50\n",
      "------------------------------------------------------------\n"
     ]
    },
    {
     "name": "stderr",
     "output_type": "stream",
     "text": [
      "Training: 100%|██████████| 125/125 [00:19<00:00,  6.27it/s, loss=0.0245]\n",
      "Validating: 100%|██████████| 63/63 [00:02<00:00, 22.38it/s, loss=0.0950]\n"
     ]
    },
    {
     "name": "stdout",
     "output_type": "stream",
     "text": [
      "\n",
      "Train Loss: 0.0630 | Val Loss: 0.2939 | LR: 0.000013\n",
      "No improvement for 12 epochs\n",
      "\n",
      "Epoch 36/50\n",
      "------------------------------------------------------------\n"
     ]
    },
    {
     "name": "stderr",
     "output_type": "stream",
     "text": [
      "Training: 100%|██████████| 125/125 [00:19<00:00,  6.34it/s, loss=0.1078]\n",
      "Validating: 100%|██████████| 63/63 [00:02<00:00, 22.49it/s, loss=0.0423]\n"
     ]
    },
    {
     "name": "stdout",
     "output_type": "stream",
     "text": [
      "\n",
      "Train Loss: 0.0589 | Val Loss: 0.2767 | LR: 0.000013\n",
      "No improvement for 13 epochs\n",
      "\n",
      "Epoch 37/50\n",
      "------------------------------------------------------------\n"
     ]
    },
    {
     "name": "stderr",
     "output_type": "stream",
     "text": [
      "Training: 100%|██████████| 125/125 [00:19<00:00,  6.34it/s, loss=0.0662]\n",
      "Validating: 100%|██████████| 63/63 [00:02<00:00, 22.35it/s, loss=0.1247]\n"
     ]
    },
    {
     "name": "stdout",
     "output_type": "stream",
     "text": [
      "\n",
      "Train Loss: 0.0630 | Val Loss: 0.2870 | LR: 0.000013\n",
      "No improvement for 14 epochs\n",
      "\n",
      "Epoch 38/50\n",
      "------------------------------------------------------------\n"
     ]
    },
    {
     "name": "stderr",
     "output_type": "stream",
     "text": [
      "Training: 100%|██████████| 125/125 [00:19<00:00,  6.32it/s, loss=0.0079]\n",
      "Validating: 100%|██████████| 63/63 [00:02<00:00, 22.48it/s, loss=0.0524]\n"
     ]
    },
    {
     "name": "stdout",
     "output_type": "stream",
     "text": [
      "\n",
      "Train Loss: 0.0562 | Val Loss: 0.2757 | LR: 0.000013\n",
      "No improvement for 15 epochs\n",
      "\n",
      "Epoch 39/50\n",
      "------------------------------------------------------------\n"
     ]
    },
    {
     "name": "stderr",
     "output_type": "stream",
     "text": [
      "Training: 100%|██████████| 125/125 [00:19<00:00,  6.33it/s, loss=0.0162]\n",
      "Validating: 100%|██████████| 63/63 [00:02<00:00, 22.47it/s, loss=0.0774]\n"
     ]
    },
    {
     "name": "stdout",
     "output_type": "stream",
     "text": [
      "\n",
      "Train Loss: 0.0618 | Val Loss: 0.2729 | LR: 0.000013\n",
      "No improvement for 16 epochs\n",
      "\n",
      "Epoch 40/50\n",
      "------------------------------------------------------------\n"
     ]
    },
    {
     "name": "stderr",
     "output_type": "stream",
     "text": [
      "Training: 100%|██████████| 125/125 [00:19<00:00,  6.33it/s, loss=0.0300]\n",
      "Validating: 100%|██████████| 63/63 [00:02<00:00, 21.47it/s, loss=0.1389]\n"
     ]
    },
    {
     "name": "stdout",
     "output_type": "stream",
     "text": [
      "\n",
      "Train Loss: 0.0598 | Val Loss: 0.2993 | LR: 0.000013\n",
      "No improvement for 17 epochs\n",
      "\n",
      "Epoch 41/50\n",
      "------------------------------------------------------------\n"
     ]
    },
    {
     "name": "stderr",
     "output_type": "stream",
     "text": [
      "Training: 100%|██████████| 125/125 [00:19<00:00,  6.29it/s, loss=0.0414]\n",
      "Validating: 100%|██████████| 63/63 [00:02<00:00, 22.49it/s, loss=0.1250]\n"
     ]
    },
    {
     "name": "stdout",
     "output_type": "stream",
     "text": [
      "\n",
      "Train Loss: 0.0617 | Val Loss: 0.2977 | LR: 0.000006\n",
      "No improvement for 18 epochs\n",
      "\n",
      "Epoch 42/50\n",
      "------------------------------------------------------------\n"
     ]
    },
    {
     "name": "stderr",
     "output_type": "stream",
     "text": [
      "Training: 100%|██████████| 125/125 [00:19<00:00,  6.34it/s, loss=0.0349]\n",
      "Validating: 100%|██████████| 63/63 [00:02<00:00, 22.29it/s, loss=0.1574]\n"
     ]
    },
    {
     "name": "stdout",
     "output_type": "stream",
     "text": [
      "\n",
      "Train Loss: 0.0509 | Val Loss: 0.2872 | LR: 0.000006\n",
      "No improvement for 19 epochs\n",
      "\n",
      "Epoch 43/50\n",
      "------------------------------------------------------------\n"
     ]
    },
    {
     "name": "stderr",
     "output_type": "stream",
     "text": [
      "Training: 100%|██████████| 125/125 [00:19<00:00,  6.34it/s, loss=0.0000]\n",
      "Validating: 100%|██████████| 63/63 [00:02<00:00, 22.36it/s, loss=0.0444]"
     ]
    },
    {
     "name": "stdout",
     "output_type": "stream",
     "text": [
      "\n",
      "Train Loss: 0.0529 | Val Loss: 0.2752 | LR: 0.000006\n",
      "No improvement for 20 epochs\n",
      "\n",
      "⚠ Early stopping triggered after 43 epochs\n",
      "\n",
      "============================================================\n",
      "✓ TRAINING COMPLETED!\n"
     ]
    },
    {
     "name": "stderr",
     "output_type": "stream",
     "text": [
      "\n"
     ]
    }
   ],
   "source": [
    "history = {\n",
    "    'train_loss': [],\n",
    "    'val_loss': [],\n",
    "    'learning_rates': []\n",
    "}\n",
    "\n",
    "best_val_loss = float('inf')\n",
    "patience_counter = 0\n",
    "print(\"STARTING TRAINING\")\n",
    "print(\"-\"*60)\n",
    "\n",
    "for epoch in range(CONFIG['NUM_EPOCHS']):\n",
    "    print(f'\\nEpoch {epoch+1}/{CONFIG[\"NUM_EPOCHS\"]}')\n",
    "    print('-' * 60)\n",
    "    \n",
    "    # Train\n",
    "    train_loss = train_one_epoch(model, train_loader, criterion, optimizer, device)\n",
    "    history['train_loss'].append(train_loss)\n",
    "    \n",
    "    # Validate\n",
    "    val_loss = validate(model, val_loader, criterion, device)\n",
    "    history['val_loss'].append(val_loss)\n",
    "    \n",
    "    # Learning rate\n",
    "    current_lr = optimizer.param_groups[0]['lr']\n",
    "    history['learning_rates'].append(current_lr)\n",
    "    \n",
    "    print(f'\\nTrain Loss: {train_loss:.4f} | Val Loss: {val_loss:.4f} | LR: {current_lr:.6f}')\n",
    "    \n",
    "    # Learning rate scheduler\n",
    "    scheduler.step()\n",
    "    \n",
    "    # Early stopping check\n",
    "    if val_loss < best_val_loss:\n",
    "        best_val_loss = val_loss\n",
    "        patience_counter = 0\n",
    "        # Save best model\n",
    "        torch.save({\n",
    "            'epoch': epoch,\n",
    "            'model_state_dict': model.state_dict(),\n",
    "            'optimizer_state_dict': optimizer.state_dict(),\n",
    "            'val_loss': val_loss,\n",
    "            'config': CONFIG\n",
    "        }, 'best_efficientnet_triplet.pth')\n",
    "        print(f'✓ New best val loss: {best_val_loss:.4f} - Model saved!')\n",
    "    else:\n",
    "        patience_counter += 1\n",
    "        print(f'No improvement for {patience_counter} epochs')\n",
    "    \n",
    "    if patience_counter >= CONFIG['PATIENCE']:\n",
    "        print(f'\\n⚠ Early stopping triggered after {epoch+1} epochs')\n",
    "        break\n",
    "\n",
    "print('\\n' + \"=\"*60)\n",
    "print('✓ TRAINING COMPLETED!')"
   ]
  },
  {
   "cell_type": "code",
   "execution_count": 11,
   "id": "01c42e4f",
   "metadata": {},
   "outputs": [
    {
     "data": {
      "image/png": "[encoded data removed]",
      "text/plain": [
       "<Figure size 1600x500 with 2 Axes>"
      ]
     },
     "metadata": {},
     "output_type": "display_data"
    },
    {
     "name": "stdout",
     "output_type": "stream",
     "text": [
      "✓ Training history saved as training_history.png\n",
      "✓ Training history saved as training_history.json\n"
     ]
    }
   ],
   "source": [
    "fig, axes = plt.subplots(1, 2, figsize=(16, 5))\n",
    "\n",
    "# Loss plot\n",
    "axes[0].plot(history['train_loss'], label='Train Loss', linewidth=2)\n",
    "axes[0].plot(history['val_loss'], label='Val Loss', linewidth=2)\n",
    "axes[0].set_xlabel('Epoch', fontsize=12)\n",
    "axes[0].set_ylabel('Loss', fontsize=12)\n",
    "axes[0].set_title('Training & Validation Loss', fontsize=14, fontweight='bold')\n",
    "axes[0].legend(fontsize=11)\n",
    "axes[0].grid(alpha=0.3)\n",
    "\n",
    "# Learning rate plot\n",
    "axes[1].plot(history['learning_rates'], color='green', linewidth=2)\n",
    "axes[1].set_xlabel('Epoch', fontsize=12)\n",
    "axes[1].set_ylabel('Learning Rate', fontsize=12)\n",
    "axes[1].set_title('Learning Rate Schedule', fontsize=14, fontweight='bold')\n",
    "axes[1].grid(alpha=0.3)\n",
    "\n",
    "plt.tight_layout()\n",
    "plt.savefig('training_history.png', dpi=300, bbox_inches='tight')\n",
    "plt.show()\n",
    "\n",
    "print('✓ Training history saved as training_history.png')\n",
    "\n",
    "# Save history JSON\n",
    "with open('training_history.json', 'w') as f:\n",
    "    json.dump(history, f, indent=4)\n",
    "print('✓ Training history saved as training_history.json')"
   ]
  },
  {
   "cell_type": "code",
   "execution_count": 12,
   "id": "0c1d5233",
   "metadata": {},
   "outputs": [
    {
     "name": "stdout",
     "output_type": "stream",
     "text": [
      "\n",
      "Loading best model for evaluation...\n",
      "✓ Loaded model from epoch 23\n",
      "✓ Best validation loss: 0.2656\n"
     ]
    }
   ],
   "source": [
    "print(\"\\nLoading best model for evaluation...\")\n",
    "checkpoint = torch.load('best_efficientnet_triplet.pth')\n",
    "model.load_state_dict(checkpoint['model_state_dict'])\n",
    "model.eval()\n",
    "print(f\"✓ Loaded model from epoch {checkpoint['epoch']+1}\")\n",
    "print(f\"✓ Best validation loss: {checkpoint['val_loss']:.4f}\")"
   ]
  },
  {
   "cell_type": "code",
   "execution_count": 13,
   "id": "54ec5bfe",
   "metadata": {},
   "outputs": [
    {
     "name": "stdout",
     "output_type": "stream",
     "text": [
      "\n",
      "======================================================================\n",
      "STARTING COMPREHENSIVE EVALUATION\n",
      "======================================================================\n",
      "\n",
      "[1/5] Generating embeddings...\n",
      "Generating embeddings for 500 samples...\n"
     ]
    },
    {
     "name": "stderr",
     "output_type": "stream",
     "text": [
      "Generating embeddings: 100%|██████████| 500/500 [00:10<00:00, 49.45it/s]\n"
     ]
    },
    {
     "name": "stdout",
     "output_type": "stream",
     "text": [
      "✓ Generated embeddings shape: (1500, 128)\n",
      "✓ Unique cats: 50\n",
      "\n",
      "[2/5] Computing distances...\n",
      "Computing distances for 2000 samples...\n"
     ]
    },
    {
     "name": "stderr",
     "output_type": "stream",
     "text": [
      "Computing distances: 100%|██████████| 500/500 [00:09<00:00, 51.45it/s]\n"
     ]
    },
    {
     "name": "stdout",
     "output_type": "stream",
     "text": [
      "✓ Positive pairs: 500\n",
      "✓ Negative pairs: 500\n",
      "\n",
      "[3/5] Computing metrics...\n",
      "\n",
      "============================================================\n",
      "VERIFICATION METRICS\n",
      "============================================================\n",
      "Accuracy:  0.8850 (88.50%)\n",
      "Precision: 0.8431\n",
      "Recall:    0.9460\n",
      "F1-Score:  0.8916\n",
      "ROC-AUC:   0.9455\n",
      "Optimal Threshold: 1.0733\n",
      "============================================================\n",
      "\n",
      "[4/5] Generating visualizations...\n",
      "✓ Confusion matrix saved as 'confusion_matrix.png'\n",
      "✓ ROC curve saved as 'roc_curve.png'\n",
      "✓ Distance distribution saved as 'distance_distribution.png'\n",
      "Running t-SNE on 1000 samples...\n",
      "✓ t-SNE completed!\n",
      "✓ t-SNE plot (top 20) saved\n",
      "✓ t-SNE plot (all cats) saved\n",
      "\n",
      "[5/5] Generating summary report...\n",
      "\n",
      "======================================================================\n",
      "COMPREHENSIVE EVALUATION SUMMARY\n",
      "======================================================================\n",
      "\n",
      "Model: EfficientNet-B0 with Triplet Loss\n",
      "Embedding Dimension: 128\n",
      "\n",
      "VERIFICATION METRICS:\n",
      "━━━━━━━━━━━━━━━━━━━━━━━━━━━━━━━━━━━━━━\n",
      "  • Accuracy:   0.8850 (88.50%)\n",
      "  • Precision:  0.8431\n",
      "  • Recall:     0.9460\n",
      "  • F1-Score:   0.8916\n",
      "  • ROC-AUC:    0.9455\n",
      "\n",
      "DISTANCE ANALYSIS:\n",
      "━━━━━━━━━━━━━━━━━━━━━━━━━━━━━━━━━━━━━━\n",
      "  • Optimal Threshold:       1.0733\n",
      "  • Same Cat Mean Dist:      0.5394 ± 0.2926\n",
      "  • Different Cat Mean Dist: 1.3698 ± 0.3526\n",
      "  • Distance Separation:     0.8304\n",
      "\n",
      "======================================================================\n",
      "\n",
      "✓ Evaluation summary saved as 'evaluation_summary.txt'\n",
      "\n",
      "======================================================================\n",
      "✅ EVALUATION COMPLETE!\n",
      "======================================================================\n",
      "\n",
      "✅ Evaluation complete!\n",
      "Final Accuracy: 0.8850\n",
      "Final F1-Score: 0.8916\n",
      "Final ROC-AUC: 0.9455\n"
     ]
    }
   ],
   "source": [
    "metrics = evaluate_model(\n",
    "    model=model, \n",
    "    dataset=val_dataset, \n",
    "    device=device,\n",
    "    config=CONFIG,\n",
    "    num_distance_samples=2000,\n",
    "    num_embedding_samples=3000\n",
    ")\n",
    "\n",
    "# Access individual metrics if needed\n",
    "print(f\"\\n✅ Evaluation complete!\")\n",
    "print(f\"Final Accuracy: {metrics['accuracy']:.4f}\")\n",
    "print(f\"Final F1-Score: {metrics['f1_score']:.4f}\")\n",
    "print(f\"Final ROC-AUC: {metrics['roc_auc']:.4f}\")"
   ]
  },
  {
   "cell_type": "code",
   "execution_count": 14,
   "id": "0b56bbbb",
   "metadata": {},
   "outputs": [
    {
     "name": "stdout",
     "output_type": "stream",
     "text": [
      "\n",
      "======================================================================\n",
      "SUMMARY\n",
      "======================================================================\n",
      "\n",
      "MODEL ARCHITECTURE:\n",
      "━━━━━━━━━━━━━━━━━━━━━━━━━━━━━━━━━━━━━━\n",
      "  • Backbone: EfficientNet-B0\n",
      "  • Embedding Dimension: 128\n",
      "  • Total Parameters: 4,730,364\n",
      "  • Model Size: 18.04 MB\n",
      "\n",
      "TRAINING CONFIGURATION:\n",
      "━━━━━━━━━━━━━━━━━━━━━━━━━━━━━━━━━━━━━━\n",
      "  • Loss: Triplet Margin Loss (margin=1.0)\n",
      "  • Optimizer: Adam (lr=0.0001)\n",
      "  • Batch Size: 8\n",
      "  • Epochs Trained: 43\n",
      "  • Early Stopping Patience: 20\n",
      "\n",
      "DATASET:\n",
      "━━━━━━━━━━━━━━━━━━━━━━━━━━━━━━━━━━━━━━\n",
      "  • Total Cats: 164,100\n",
      "  • Training Cats: 131,280\n",
      "  • Validation Cats: 32,820\n",
      "  • Training Images: 515,159\n",
      "  • Validation Images: 128,380\n",
      "\n",
      "TRAINING RESULTS:\n",
      "━━━━━━━━━━━━━━━━━━━━━━━━━━━━━━━━━━━━━━\n",
      "  • Best Train Loss: 0.0509\n",
      "  • Best Val Loss: 0.2656\n",
      "  • Final Train Loss: 0.0529\n",
      "  • Final Val Loss: 0.2752\n",
      "\n",
      "EVALUATION METRICS:\n",
      "━━━━━━━━━━━━━━━━━━━━━━━━━━━━━━━━━━━━━━\n",
      "  • Accuracy: 0.8850 (88.50%)\n",
      "  • Precision: 0.8431\n",
      "  • Recall: 0.9460\n",
      "  • F1-Score: 0.8916\n",
      "  • ROC-AUC: 0.9455\n",
      "  • Optimal Threshold: 1.0733\n",
      "\n",
      "DISTANCE ANALYSIS:\n",
      "━━━━━━━━━━━━━━━━━━━━━━━━━━━━━━━━━━━━━━\n",
      "  • Same Cat Mean: 0.5394 ± 0.2926\n",
      "  • Different Cat Mean: 1.3698 ± 0.3526\n",
      "  • Separation: 0.8304\n",
      "\n",
      "ALL GENERATED FILES:\n",
      "━━━━━━━━━━━━━━━━━━━━━━━━━━━━━━━━━━━━━━\n",
      "  ✓ best_efficientnet_triplet.pth\n",
      "  ✓ training_history.png\n",
      "  ✓ training_history.json\n",
      "  ✓ confusion_matrix.png\n",
      "  ✓ roc_curve.png\n",
      "  ✓ distance_distribution.png\n",
      "  ✓ tsne_embeddings_top20.png\n",
      "  ✓ tsne_embeddings_all.png\n",
      "  ✓ evaluation_summary.txt\n",
      "  ✓ final_summary.txt\n",
      "\n",
      "======================================================================\n",
      "PROJECT COMPLETE! 🎉\n",
      "======================================================================\n",
      "\n",
      "\n",
      "✓ Final summary saved as 'final_summary.txt'\n"
     ]
    }
   ],
   "source": [
    "final_summary = f\"\"\"\n",
    "{'='*70}\n",
    "SUMMARY\n",
    "{'='*70}\n",
    "\n",
    "MODEL ARCHITECTURE:\n",
    "━━━━━━━━━━━━━━━━━━━━━━━━━━━━━━━━━━━━━━\n",
    "  • Backbone: EfficientNet-B0\n",
    "  • Embedding Dimension: {CONFIG['EMBEDDING_DIM']}\n",
    "  • Total Parameters: {total_params:,}\n",
    "  • Model Size: {total_params * 4 / 1024 / 1024:.2f} MB\n",
    "\n",
    "TRAINING CONFIGURATION:\n",
    "━━━━━━━━━━━━━━━━━━━━━━━━━━━━━━━━━━━━━━\n",
    "  • Loss: Triplet Margin Loss (margin={CONFIG['MARGIN']})\n",
    "  • Optimizer: Adam (lr={CONFIG['LEARNING_RATE']})\n",
    "  • Batch Size: {CONFIG['BATCH_SIZE']}\n",
    "  • Epochs Trained: {len(history['train_loss'])}\n",
    "  • Early Stopping Patience: {CONFIG['PATIENCE']}\n",
    "\n",
    "DATASET:\n",
    "━━━━━━━━━━━━━━━━━━━━━━━━━━━━━━━━━━━━━━\n",
    "  • Total Cats: {len(unique_cats):,}\n",
    "  • Training Cats: {len(train_cat_ids):,}\n",
    "  • Validation Cats: {len(val_cat_ids):,}\n",
    "  • Training Images: {len(train_paths):,}\n",
    "  • Validation Images: {len(val_paths):,}\n",
    "\n",
    "TRAINING RESULTS:\n",
    "━━━━━━━━━━━━━━━━━━━━━━━━━━━━━━━━━━━━━━\n",
    "  • Best Train Loss: {min(history['train_loss']):.4f}\n",
    "  • Best Val Loss: {best_val_loss:.4f}\n",
    "  • Final Train Loss: {history['train_loss'][-1]:.4f}\n",
    "  • Final Val Loss: {history['val_loss'][-1]:.4f}\n",
    "\n",
    "EVALUATION METRICS:\n",
    "━━━━━━━━━━━━━━━━━━━━━━━━━━━━━━━━━━━━━━\n",
    "  • Accuracy: {metrics['accuracy']:.4f} ({metrics['accuracy']*100:.2f}%)\n",
    "  • Precision: {metrics['precision']:.4f}\n",
    "  • Recall: {metrics['recall']:.4f}\n",
    "  • F1-Score: {metrics['f1_score']:.4f}\n",
    "  • ROC-AUC: {metrics['roc_auc']:.4f}\n",
    "  • Optimal Threshold: {metrics['optimal_threshold']:.4f}\n",
    "\n",
    "DISTANCE ANALYSIS:\n",
    "━━━━━━━━━━━━━━━━━━━━━━━━━━━━━━━━━━━━━━\n",
    "  • Same Cat Mean: {metrics['pos_dist_mean']:.4f} ± {metrics['pos_dist_std']:.4f}\n",
    "  • Different Cat Mean: {metrics['neg_dist_mean']:.4f} ± {metrics['neg_dist_std']:.4f}\n",
    "  • Separation: {metrics['distance_separation']:.4f}\n",
    "\n",
    "ALL GENERATED FILES:\n",
    "━━━━━━━━━━━━━━━━━━━━━━━━━━━━━━━━━━━━━━\n",
    "  ✓ best_efficientnet_triplet.pth\n",
    "  ✓ training_history.png\n",
    "  ✓ training_history.json\n",
    "  ✓ confusion_matrix.png\n",
    "  ✓ roc_curve.png\n",
    "  ✓ distance_distribution.png\n",
    "  ✓ tsne_embeddings_top20.png\n",
    "  ✓ tsne_embeddings_all.png\n",
    "  ✓ evaluation_summary.txt\n",
    "  ✓ final_summary.txt\n",
    "\n",
    "{'='*70}\n",
    "PROJECT COMPLETE! 🎉\n",
    "{'='*70}\n",
    "\"\"\"\n",
    "\n",
    "print(final_summary)\n",
    "\n",
    "# Save final summary\n",
    "with open('final_summary.txt', 'w') as f:\n",
    "    f.write(final_summary)\n",
    "\n",
    "print(\"\\n✓ Final summary saved as 'final_summary.txt'\")"
   ]
  }
 ],
 "metadata": {
  "kernelspec": {
   "display_name": "PetFace",
   "language": "python",
   "name": "python3"
  },
  "language_info": {
   "codemirror_mode": {
    "name": "ipython",
    "version": 3
   },
   "file_extension": ".py",
   "mimetype": "text/x-python",
   "name": "python",
   "nbconvert_exporter": "python",
   "pygments_lexer": "ipython3",
   "version": "3.10.0"
  }
 },
 "nbformat": 4,
 "nbformat_minor": 5
}
