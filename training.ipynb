{
 "cells": [
  {
   "cell_type": "code",
   "execution_count": 1,
   "id": "4ec7e928",
   "metadata": {},
   "outputs": [
    {
     "name": "stdout",
     "output_type": "stream",
     "text": [
      "PyTorch version: 2.8.0+cu128\n",
      "CUDA available: True\n",
      "CUDA device: NVIDIA GeForce RTX 3050 Laptop GPU\n"
     ]
    }
   ],
   "source": [
    "import numpy as np\n",
    "import pandas as pd\n",
    "from pathlib import Path\n",
    "from collections import defaultdict\n",
    "from PIL import Image\n",
    "import torch\n",
    "from torch.utils.data import DataLoader\n",
    "from sklearn.model_selection import train_test_split\n",
    "from tqdm import tqdm\n",
    "import matplotlib.pyplot as plt\n",
    "\n",
    "from model.siamese_koch2015 import *\n",
    "from trainer.train_v1 import *\n",
    "from trainer.process_data import *\n",
    "\n",
    "print(f'PyTorch version: {torch.__version__}')\n",
    "print(f'CUDA available: {torch.cuda.is_available()}')\n",
    "if torch.cuda.is_available():\n",
    "    print(f'CUDA device: {torch.cuda.get_device_name(0)}')"
   ]
  },
  {
   "cell_type": "code",
   "execution_count": 2,
   "id": "31e7fa8f",
   "metadata": {},
   "outputs": [
    {
     "name": "stdout",
     "output_type": "stream",
     "text": [
      "Using device: cuda\n",
      "Batch size: 32\n",
      "Embedding dimension: 4096\n",
      "Training epochs: 50\n"
     ]
    }
   ],
   "source": [
    "# Device configuration\n",
    "device = torch.device('cuda' if torch.cuda.is_available() else 'cpu')\n",
    "print(f'Using device: {device}')\n",
    "\n",
    "# Hyperparameters\n",
    "BATCH_SIZE = 32\n",
    "EMBEDDING_DIM = 4096\n",
    "NUM_EPOCHS = 50\n",
    "SUBSET_SIZE = 131280 # Number of cats per epoch\n",
    "PAIRS_PER_EPOCH = 200000\n",
    "\n",
    "# Dataset paths\n",
    "DATASET_PATH = './cat'  # Adjust this to your actual path\n",
    "ANNOTATION_PATH = './annotation'\n",
    "\n",
    "print(f'Batch size: {BATCH_SIZE}')\n",
    "print(f'Embedding dimension: {EMBEDDING_DIM}')\n",
    "print(f'Training epochs: {NUM_EPOCHS}')"
   ]
  },
  {
   "cell_type": "code",
   "execution_count": 3,
   "id": "b6f13b7a",
   "metadata": {},
   "outputs": [
    {
     "name": "stdout",
     "output_type": "stream",
     "text": [
      "Loading data from: ./cat\n",
      "Found 164100 cat folders\n"
     ]
    },
    {
     "name": "stderr",
     "output_type": "stream",
     "text": [
      "Loading cats: 100%|██████████| 164100/164100 [00:13<00:00, 12312.10it/s]"
     ]
    },
    {
     "name": "stdout",
     "output_type": "stream",
     "text": [
      "\n",
      "Loaded 643539 images from 164100 unique cats\n"
     ]
    },
    {
     "name": "stderr",
     "output_type": "stream",
     "text": [
      "\n"
     ]
    }
   ],
   "source": [
    "# Load image paths and labels\n",
    "image_paths, labels = load_cat_data('./cat')\n"
   ]
  },
  {
   "cell_type": "code",
   "execution_count": 4,
   "id": "89a75547",
   "metadata": {},
   "outputs": [
    {
     "name": "stdout",
     "output_type": "stream",
     "text": [
      "Total unique cats: 164100\n",
      "Train cats: 131280\n",
      "Val cats: 32820\n",
      "\n",
      "Training images: 515159\n",
      "Validation images: 128380\n",
      "Training cats: 131280\n",
      "Validation cats: 32820\n"
     ]
    }
   ],
   "source": [
    "# Get unique cat IDs\n",
    "unique_cats = sorted(list(set(labels)))\n",
    "print(f'Total unique cats: {len(unique_cats)}')\n",
    "\n",
    "# Split CAT IDs (not images!)\n",
    "train_cat_ids, val_cat_ids = train_test_split(\n",
    "    unique_cats, \n",
    "    test_size=0.2, \n",
    "    random_state=42\n",
    ")\n",
    "\n",
    "# Convert to sets for fast lookup\n",
    "train_cat_ids = set(train_cat_ids)\n",
    "val_cat_ids = set(val_cat_ids)\n",
    "\n",
    "print(f'Train cats: {len(train_cat_ids)}')\n",
    "print(f'Val cats: {len(val_cat_ids)}')\n",
    "\n",
    "# Split images based on cat ID assignment\n",
    "train_paths, train_labels = [], []\n",
    "val_paths, val_labels = [], []\n",
    "\n",
    "for img_path, cat_id in zip(image_paths, labels):\n",
    "    if cat_id in train_cat_ids:\n",
    "        train_paths.append(img_path)\n",
    "        train_labels.append(cat_id)\n",
    "    else:\n",
    "        val_paths.append(img_path)\n",
    "        val_labels.append(cat_id)\n",
    "\n",
    "print(f'\\nTraining images: {len(train_paths)}')\n",
    "print(f'Validation images: {len(val_paths)}')\n",
    "print(f'Training cats: {len(set(train_labels))}')\n",
    "print(f'Validation cats: {len(set(val_labels))}')\n"
   ]
  },
  {
   "cell_type": "code",
   "execution_count": 5,
   "id": "68298ceb",
   "metadata": {},
   "outputs": [
    {
     "name": "stdout",
     "output_type": "stream",
     "text": [
      "Total cats: 131280\n",
      "Total images: 515159\n",
      "Generated 100000 positive and 100000 negative pairs\n",
      "Total cats: 32820\n",
      "Total images: 128380\n",
      "Generated 2500 positive and 2500 negative pairs\n",
      "Train batches: 6250\n",
      "Val batches: 157\n"
     ]
    }
   ],
   "source": [
    "train_transform = get_paper_transforms()\n",
    "\n",
    "# Datasets\n",
    "train_dataset = CatPairDataset(\n",
    "    train_paths, train_labels, train_transform,\n",
    "    subset_size=SUBSET_SIZE,\n",
    "    pairs_per_epoch=PAIRS_PER_EPOCH\n",
    ")\n",
    "\n",
    "val_dataset = CatPairDataset(\n",
    "    val_paths, val_labels, train_transform,\n",
    "    subset_size=1000,\n",
    "    pairs_per_epoch=5000\n",
    ")\n",
    "\n",
    "# Dataloaders\n",
    "train_loader = DataLoader(train_dataset, batch_size=BATCH_SIZE, shuffle=True, num_workers=4)\n",
    "val_loader = DataLoader(val_dataset, batch_size=BATCH_SIZE, shuffle=False, num_workers=4)\n",
    "\n",
    "print(f'Train batches: {len(train_loader)}')\n",
    "print(f'Val batches: {len(val_loader)}')"
   ]
  },
  {
   "cell_type": "code",
   "execution_count": 6,
   "id": "c5a73cac",
   "metadata": {},
   "outputs": [
    {
     "name": "stdout",
     "output_type": "stream",
     "text": [
      "Total parameters: 38,964,545\n",
      "Trainable parameters: 38,964,545\n",
      "Model size: 148.64 MB\n",
      "DEVICE USING: cuda\n"
     ]
    }
   ],
   "source": [
    "model = Siamese(embedding_dim=EMBEDDING_DIM)\n",
    "model = model.to(device)\n",
    "\n",
    "total_params = sum(p.numel() for p in model.parameters())\n",
    "trainable_params = sum(p.numel() for p in model.parameters() if p.requires_grad)\n",
    "\n",
    "print(f'Total parameters: {total_params:,}')\n",
    "print(f'Trainable parameters: {trainable_params:,}')\n",
    "print(f'Model size: {total_params * 4 / 1024 / 1024:.2f} MB')\n",
    "\n",
    "trainer = Trainer(model, device)"
   ]
  },
  {
   "cell_type": "code",
   "execution_count": null,
   "id": "4407cfb6",
   "metadata": {},
   "outputs": [
    {
     "name": "stdout",
     "output_type": "stream",
     "text": [
      "\n",
      "Epoch 1/50\n",
      "------------------------------------------------------------\n"
     ]
    }
   ],
   "source": [
    "# Training history\n",
    "history = {\n",
    "    'train_loss': [],\n",
    "    'train_acc': [],\n",
    "    'val_loss': [],\n",
    "    'val_acc': []\n",
    "}\n",
    "\n",
    "best_val_acc = 0.0\n",
    "patience = 20\n",
    "patience_counter = 0\n",
    "\n",
    "for epoch in range(NUM_EPOCHS):\n",
    "    print(f'\\nEpoch {epoch+1}/{NUM_EPOCHS}')\n",
    "    print('-' * 60)\n",
    "    \n",
    "    # Train\n",
    "    train_loss, train_acc = trainer.train_epoch(train_loader, epoch)\n",
    "    history['train_loss'].append(train_loss)\n",
    "    history['train_acc'].append(train_acc)\n",
    "    \n",
    "    # Early stopping check\n",
    "    if train_acc > best_val_acc:\n",
    "        best_val_acc = train_acc\n",
    "        patience_counter = 0\n",
    "        # Save best model\n",
    "        torch.save(model.state_dict(), 'best_cat_siamese_model.pth')\n",
    "        print(f'New best accuracy: {best_val_acc:.2f}% - Model saved!')\n",
    "    else:\n",
    "        patience_counter += 1\n",
    "        \n",
    "    if patience_counter >= patience:\n",
    "        print(f'Early stopping triggered after {epoch+1} epochs')\n",
    "        break\n",
    "\n",
    "print('\\nTraining completed!')"
   ]
  },
  {
   "cell_type": "code",
   "execution_count": null,
   "id": "701a2e97",
   "metadata": {},
   "outputs": [
    {
     "data": {
      "image/png": "[encoded data removed]",
      "text/plain": [
       "<Figure size 1500x500 with 2 Axes>"
      ]
     },
     "metadata": {},
     "output_type": "display_data"
    },
    {
     "name": "stdout",
     "output_type": "stream",
     "text": [
      "Training plots saved as training_history.png\n"
     ]
    }
   ],
   "source": [
    "# plotting the training history\n",
    "\n",
    "fig, (ax1, ax2) = plt.subplots(1, 2, figsize=(15, 5))\n",
    "\n",
    "# Plot loss\n",
    "ax1.plot(history['train_loss'], label='Train Loss')\n",
    "ax1.set_xlabel('Epoch')\n",
    "ax1.set_ylabel('Loss')\n",
    "ax1.set_title('Training Loss')\n",
    "ax1.legend()\n",
    "ax1.grid(True)\n",
    "\n",
    "# Plot accuracy\n",
    "ax2.plot(history['train_acc'], label='Train Accuracy')\n",
    "ax2.set_xlabel('Epoch')\n",
    "ax2.set_ylabel('Accuracy (%)')\n",
    "ax2.set_title('Training Accuracy')\n",
    "ax2.legend()\n",
    "ax2.grid(True)\n",
    "\n",
    "plt.tight_layout()\n",
    "plt.savefig('training_history.png', dpi=300, bbox_inches='tight')\n",
    "plt.show()\n",
    "\n",
    "print('Training plots saved as training_history.png')"
   ]
  },
  {
   "cell_type": "code",
   "execution_count": null,
   "id": "2326e82c",
   "metadata": {},
   "outputs": [
    {
     "name": "stdout",
     "output_type": "stream",
     "text": [
      "Test batch accuracy: 34.38%\n",
      "Sample predictions: [0. 0. 0. 0. 0. 0. 0. 0. 0. 0.]\n",
      "Sample labels: [1. 0. 1. 1. 0. 1. 1. 0. 0. 0.]\n"
     ]
    }
   ],
   "source": [
    "# Load best model\n",
    "model.load_state_dict(torch.load('best_cat_siamese_model.pth'))\n",
    "model.eval()\n",
    "\n",
    "# Test with a sample pair\n",
    "with torch.no_grad():\n",
    "    # Get a batch from validation\n",
    "    img1, img2, labels = next(iter(val_loader))\n",
    "    img1, img2, labels = img1.to(device), img2.to(device), labels.to(device)\n",
    "    \n",
    "    outputs = model(img1, img2)\n",
    "    predictions = (outputs.squeeze() > 0.5).float()\n",
    "    \n",
    "    accuracy = (predictions == labels).float().mean().item()\n",
    "    \n",
    "    print(f'Test batch accuracy: {accuracy * 100:.2f}%')\n",
    "    print(f'Sample predictions: {predictions[:10].cpu().numpy()}')\n",
    "    print(f'Sample labels: {labels[:10].cpu().numpy()}')"
   ]
  },
  {
   "cell_type": "code",
   "execution_count": null,
   "id": "b7b72e89",
   "metadata": {},
   "outputs": [
    {
     "name": "stdout",
     "output_type": "stream",
     "text": [
      "Training history saved to training_history.json\n",
      "\n",
      "Final Results:\n",
      "Best training accuracy: 77.33%\n",
      "Final training loss: 0.480042\n"
     ]
    }
   ],
   "source": [
    "# Save training history\n",
    "import json\n",
    "\n",
    "with open('training_history.json', 'w') as f:\n",
    "    json.dump(history, f, indent=4)\n",
    "\n",
    "print('Training history saved to training_history.json')\n",
    "print('\\nFinal Results:')\n",
    "print(f'Best training accuracy: {max(history[\"train_acc\"]):.2f}%')\n",
    "print(f'Final training loss: {history[\"train_loss\"][-1]:.6f}')"
   ]
  }
 ],
 "metadata": {
  "kernelspec": {
   "display_name": "PetFace",
   "language": "python",
   "name": "python3"
  },
  "language_info": {
   "codemirror_mode": {
    "name": "ipython",
    "version": 3
   },
   "file_extension": ".py",
   "mimetype": "text/x-python",
   "name": "python",
   "nbconvert_exporter": "python",
   "pygments_lexer": "ipython3",
   "version": "3.10.0"
  }
 },
 "nbformat": 4,
 "nbformat_minor": 5
}
