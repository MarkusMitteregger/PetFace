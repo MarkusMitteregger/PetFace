{
 "cells": [
  {
   "cell_type": "code",
   "execution_count": 3,
   "id": "edc1ca1f",
   "metadata": {},
   "outputs": [],
   "source": [
    "import os\n",
    "import numpy as np\n",
    "import pandas as pd\n",
    "from PIL import Image\n",
    "from collections import Counter\n",
    "from tqdm import tqdm\n",
    "import matplotlib.pyplot as plt"
   ]
  },
  {
   "cell_type": "code",
   "execution_count": 6,
   "id": "fd25dbd5",
   "metadata": {},
   "outputs": [
    {
     "name": "stdout",
     "output_type": "stream",
     "text": [
      "Found 164100 cats folders (subjects)\n"
     ]
    },
    {
     "name": "stderr",
     "output_type": "stream",
     "text": [
      "Scanning: 100%|██████████| 164100/164100 [00:10<00:00, 15144.06it/s]\n"
     ]
    },
    {
     "name": "stdout",
     "output_type": "stream",
     "text": [
      "\n",
      "STATISTICS (from 164100 cats):\n",
      "   Images per cat - Mean: 3.92, Min: 2, Max: 10\n",
      "   Image width - Mean: 224px, Range: [224, 224]\n",
      "   Image height - Mean: 224px, Range: [224, 224]\n",
      "   Formats: {'PNG': 164100}\n"
     ]
    }
   ],
   "source": [
    "def dataset_analysis(base_path='./cat', max_cats_to_check=1000):\n",
    "    cat_folders = sorted([d for d in os.listdir(base_path) \n",
    "                         if os.path.isdir(os.path.join(base_path, d))])\n",
    "    \n",
    "    print(f\"Found {len(cat_folders)} cats folders (subjects)\") \n",
    "    \n",
    "    # Check images per cat\n",
    "    images_per_cat = []\n",
    "    image_sizes = []\n",
    "    formats = []\n",
    "    total_size = 0\n",
    "    \n",
    "    for cat_folder in tqdm(cat_folders[:max_cats_to_check], desc=\"Scanning\"):\n",
    "        folder_path = os.path.join(base_path, cat_folder)\n",
    "        images = [f for f in os.listdir(folder_path) \n",
    "                 if f.lower().endswith(('.jpg', '.jpeg', '.png', '.bmp'))]\n",
    "        \n",
    "        images_per_cat.append(len(images))\n",
    "        \n",
    "        # Check first image in folder for details\n",
    "        if images:\n",
    "            img_path = os.path.join(folder_path, images[0])\n",
    "            try:\n",
    "                with Image.open(img_path) as im:\n",
    "                    image_sizes.append(im.size)\n",
    "                    formats.append(im.format)\n",
    "                total_size += os.path.getsize(img_path) / (1024 * 1024)\n",
    "            except:\n",
    "                pass\n",
    "    \n",
    "    # Print statistics\n",
    "    images_array = np.array(images_per_cat)\n",
    "    print(f\"\\nSTATISTICS (from {max_cats_to_check} cats):\")\n",
    "    print(f\"   Images per cat - Mean: {images_array.mean():.2f}, \"\n",
    "          f\"Min: {images_array.min()}, Max: {images_array.max()}\")\n",
    "    \n",
    "    if image_sizes:\n",
    "        widths = [s[0] for s in image_sizes]\n",
    "        heights = [s[1] for s in image_sizes]\n",
    "        print(f\"   Image width - Mean: {np.mean(widths):.0f}px, \"\n",
    "              f\"Range: [{min(widths)}, {max(widths)}]\")\n",
    "        print(f\"   Image height - Mean: {np.mean(heights):.0f}px, \"\n",
    "              f\"Range: [{min(heights)}, {max(heights)}]\")\n",
    "    if formats:\n",
    "        format_counts = Counter(formats)\n",
    "        print(f\"   Formats: {dict(format_counts)}\")    \n",
    "    return {\n",
    "        'images_per_cat': images_per_cat,\n",
    "        'image_sizes': image_sizes,\n",
    "        'formats': formats\n",
    "    }\n",
    "\n",
    "stats = dataset_analysis('./cat', max_cats_to_check=164100)"
   ]
  }
 ],
 "metadata": {
  "kernelspec": {
   "display_name": "PetFace",
   "language": "python",
   "name": "python3"
  },
  "language_info": {
   "codemirror_mode": {
    "name": "ipython",
    "version": 3
   },
   "file_extension": ".py",
   "mimetype": "text/x-python",
   "name": "python",
   "nbconvert_exporter": "python",
   "pygments_lexer": "ipython3",
   "version": "3.10.0"
  }
 },
 "nbformat": 4,
 "nbformat_minor": 5
}
